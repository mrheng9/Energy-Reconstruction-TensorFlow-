{
 "cells": [
  {
   "cell_type": "code",
   "execution_count": 1,
   "metadata": {},
   "outputs": [],
   "source": [
    "import h5py\n",
    "import numpy as np\n",
    "import os\n",
    "%matplotlib inline  # magic,turns on inline plotting\n",
    "import matplotlib\n",
    "import matplotlib.mlab as mlab\n",
    "import matplotlib.pyplot as plt\n",
    "import matplotlib.patches as mpatches"
   ]
  },
  {
   "cell_type": "code",
   "execution_count": 2,
   "metadata": {},
   "outputs": [],
   "source": [
    "# Set up hdf5 file path\n",
    "path = '/home/stella/data/testData/preprocessed_regcvn.1000_of_1300.h5'"
   ]
  },
  {
   "cell_type": "code",
   "execution_count": 3,
   "metadata": {},
   "outputs": [],
   "source": [
    "w = h5py.File(path)"
   ]
  },
  {
   "cell_type": "code",
   "execution_count": 5,
   "metadata": {
    "scrolled": true
   },
   "outputs": [
    {
     "data": {
      "text/plain": [
       "<KeysViewHDF5 ['eventcalE', 'eventint', 'eventmap', 'eventrecE', 'eventtrueE', 'eventvtx', 'prong3mom', 'prongmap', 'prongrecE', 'prongtrueE']>"
      ]
     },
     "execution_count": 5,
     "metadata": {},
     "output_type": "execute_result"
    }
   ],
   "source": [
    "w.keys()"
   ]
  },
  {
   "cell_type": "code",
   "execution_count": 6,
   "metadata": {},
   "outputs": [],
   "source": [
    "dset = w['prong3mom']"
   ]
  },
  {
   "cell_type": "code",
   "execution_count": 1,
   "metadata": {
    "scrolled": false
   },
   "outputs": [
    {
     "ename": "NameError",
     "evalue": "name 'w' is not defined",
     "output_type": "error",
     "traceback": [
      "\u001B[0;31m---------------------------------------------------------------------------\u001B[0m",
      "\u001B[0;31mNameError\u001B[0m                                 Traceback (most recent call last)",
      "Input \u001B[0;32mIn [1]\u001B[0m, in \u001B[0;36m<cell line: 1>\u001B[0;34m()\u001B[0m\n\u001B[0;32m----> 1\u001B[0m \u001B[43mw\u001B[49m[\u001B[38;5;124m'\u001B[39m\u001B[38;5;124mmodel_weights\u001B[39m\u001B[38;5;124m'\u001B[39m]\u001B[38;5;241m.\u001B[39mkeys()\n",
      "\u001B[0;31mNameError\u001B[0m: name 'w' is not defined"
     ]
    }
   ],
   "source": [
    "w['model_weights'].keys()"
   ]
  },
  {
   "cell_type": "code",
   "execution_count": 35,
   "metadata": {},
   "outputs": [
    {
     "data": {
      "text/plain": [
       "<HDF5 dataset \"kernel:0\": shape (7, 7, 1, 32), type \"<f4\">"
      ]
     },
     "execution_count": 35,
     "metadata": {},
     "output_type": "execute_result"
    }
   ],
   "source": [
    "layername= 'xInputConv1'\n",
    "w['model_weights'][layername][layername][u'kernel:0']"
   ]
  },
  {
   "cell_type": "code",
   "execution_count": 1,
   "metadata": {},
   "outputs": [],
   "source": [
    "def plot_filters(layername, w, axes):\n",
    "    filters = w['model_weights'][layername][layername][u'kernel:0']\n",
    "    for i in range(36):\n",
    "        if i < 32:\n",
    "            axes[i//6, i%6].imshow(filters[:, :, 0, i], interpolation='nearest', cmap='hot')\n",
    "            axes[i//6, i%6].set_xticks([])\n",
    "            axes[i//6, i%6].set_yticks([]) \n",
    "        else:\n",
    "            axes[i//6, i%6].axis('off')"
   ]
  },
  {
   "cell_type": "code",
   "execution_count": 55,
   "metadata": {},
   "outputs": [
    {
     "ename": "AttributeError",
     "evalue": "'Figure' object has no attribute 'autoscale_None'",
     "output_type": "error",
     "traceback": [
      "\u001B[1;31m---------------------------------------------------------------------------\u001B[0m",
      "\u001B[1;31mAttributeError\u001B[0m                            Traceback (most recent call last)",
      "\u001B[1;32m<ipython-input-55-26c541ab69ad>\u001B[0m in \u001B[0;36m<module>\u001B[1;34m()\u001B[0m\n\u001B[0;32m      1\u001B[0m \u001B[0mfig\u001B[0m\u001B[1;33m,\u001B[0m \u001B[0maxes\u001B[0m \u001B[1;33m=\u001B[0m \u001B[0mplt\u001B[0m\u001B[1;33m.\u001B[0m\u001B[0msubplots\u001B[0m\u001B[1;33m(\u001B[0m\u001B[0mnrows\u001B[0m\u001B[1;33m=\u001B[0m\u001B[1;36m6\u001B[0m\u001B[1;33m,\u001B[0m \u001B[0mncols\u001B[0m\u001B[1;33m=\u001B[0m\u001B[1;36m6\u001B[0m\u001B[1;33m,\u001B[0m \u001B[0mfigsize\u001B[0m\u001B[1;33m=\u001B[0m\u001B[1;33m(\u001B[0m\u001B[1;36m5\u001B[0m\u001B[1;33m,\u001B[0m \u001B[1;36m5\u001B[0m\u001B[1;33m)\u001B[0m\u001B[1;33m)\u001B[0m\u001B[1;33m\u001B[0m\u001B[0m\n\u001B[0;32m      2\u001B[0m \u001B[0mplot_filters\u001B[0m\u001B[1;33m(\u001B[0m\u001B[0mlayername\u001B[0m\u001B[1;33m=\u001B[0m\u001B[1;34m'xInputConv1'\u001B[0m\u001B[1;33m,\u001B[0m \u001B[0mw\u001B[0m\u001B[1;33m=\u001B[0m\u001B[0mw\u001B[0m\u001B[1;33m,\u001B[0m \u001B[0maxes\u001B[0m\u001B[1;33m=\u001B[0m\u001B[0maxes\u001B[0m\u001B[1;33m)\u001B[0m\u001B[1;33m\u001B[0m\u001B[0m\n\u001B[1;32m----> 3\u001B[1;33m \u001B[0mplt\u001B[0m\u001B[1;33m.\u001B[0m\u001B[0mcolorbar\u001B[0m\u001B[1;33m(\u001B[0m\u001B[0mfig\u001B[0m\u001B[1;33m)\u001B[0m\u001B[1;33m\u001B[0m\u001B[0m\n\u001B[0m\u001B[0;32m      4\u001B[0m \u001B[0mfig\u001B[0m\u001B[1;33m.\u001B[0m\u001B[0msuptitle\u001B[0m\u001B[1;33m(\u001B[0m\u001B[1;34mr'Top-view $7 \\times 7$ Filters'\u001B[0m\u001B[1;33m,\u001B[0m \u001B[0mfontsize\u001B[0m\u001B[1;33m=\u001B[0m\u001B[1;36m15\u001B[0m\u001B[1;33m)\u001B[0m\u001B[1;33m\u001B[0m\u001B[0m\n\u001B[0;32m      5\u001B[0m \u001B[1;31m# fig.savefig('figures/top_conv_1.pdf')\u001B[0m\u001B[1;33m\u001B[0m\u001B[1;33m\u001B[0m\u001B[0m\n",
      "\u001B[1;32m/home/lhertel/anaconda2/envs/kerasenv/lib/python2.7/site-packages/matplotlib/pyplot.pyc\u001B[0m in \u001B[0;36mcolorbar\u001B[1;34m(mappable, cax, ax, **kw)\u001B[0m\n\u001B[0;32m   2235\u001B[0m         \u001B[0max\u001B[0m \u001B[1;33m=\u001B[0m \u001B[0mgca\u001B[0m\u001B[1;33m(\u001B[0m\u001B[1;33m)\u001B[0m\u001B[1;33m\u001B[0m\u001B[0m\n\u001B[0;32m   2236\u001B[0m \u001B[1;33m\u001B[0m\u001B[0m\n\u001B[1;32m-> 2237\u001B[1;33m     \u001B[0mret\u001B[0m \u001B[1;33m=\u001B[0m \u001B[0mgcf\u001B[0m\u001B[1;33m(\u001B[0m\u001B[1;33m)\u001B[0m\u001B[1;33m.\u001B[0m\u001B[0mcolorbar\u001B[0m\u001B[1;33m(\u001B[0m\u001B[0mmappable\u001B[0m\u001B[1;33m,\u001B[0m \u001B[0mcax\u001B[0m \u001B[1;33m=\u001B[0m \u001B[0mcax\u001B[0m\u001B[1;33m,\u001B[0m \u001B[0max\u001B[0m\u001B[1;33m=\u001B[0m\u001B[0max\u001B[0m\u001B[1;33m,\u001B[0m \u001B[1;33m**\u001B[0m\u001B[0mkw\u001B[0m\u001B[1;33m)\u001B[0m\u001B[1;33m\u001B[0m\u001B[0m\n\u001B[0m\u001B[0;32m   2238\u001B[0m     \u001B[1;32mreturn\u001B[0m \u001B[0mret\u001B[0m\u001B[1;33m\u001B[0m\u001B[0m\n\u001B[0;32m   2239\u001B[0m \u001B[0mcolorbar\u001B[0m\u001B[1;33m.\u001B[0m\u001B[0m__doc__\u001B[0m \u001B[1;33m=\u001B[0m \u001B[0mmatplotlib\u001B[0m\u001B[1;33m.\u001B[0m\u001B[0mcolorbar\u001B[0m\u001B[1;33m.\u001B[0m\u001B[0mcolorbar_doc\u001B[0m\u001B[1;33m\u001B[0m\u001B[0m\n",
      "\u001B[1;32m/home/lhertel/anaconda2/envs/kerasenv/lib/python2.7/site-packages/matplotlib/figure.pyc\u001B[0m in \u001B[0;36mcolorbar\u001B[1;34m(self, mappable, cax, ax, use_gridspec, **kw)\u001B[0m\n\u001B[0;32m   1593\u001B[0m                 \u001B[0mcax\u001B[0m\u001B[1;33m,\u001B[0m \u001B[0mkw\u001B[0m \u001B[1;33m=\u001B[0m \u001B[0mcbar\u001B[0m\u001B[1;33m.\u001B[0m\u001B[0mmake_axes\u001B[0m\u001B[1;33m(\u001B[0m\u001B[0max\u001B[0m\u001B[1;33m,\u001B[0m \u001B[1;33m**\u001B[0m\u001B[0mkw\u001B[0m\u001B[1;33m)\u001B[0m\u001B[1;33m\u001B[0m\u001B[0m\n\u001B[0;32m   1594\u001B[0m         \u001B[0mcax\u001B[0m\u001B[1;33m.\u001B[0m\u001B[0mhold\u001B[0m\u001B[1;33m(\u001B[0m\u001B[0mTrue\u001B[0m\u001B[1;33m)\u001B[0m\u001B[1;33m\u001B[0m\u001B[0m\n\u001B[1;32m-> 1595\u001B[1;33m         \u001B[0mcb\u001B[0m \u001B[1;33m=\u001B[0m \u001B[0mcbar\u001B[0m\u001B[1;33m.\u001B[0m\u001B[0mcolorbar_factory\u001B[0m\u001B[1;33m(\u001B[0m\u001B[0mcax\u001B[0m\u001B[1;33m,\u001B[0m \u001B[0mmappable\u001B[0m\u001B[1;33m,\u001B[0m \u001B[1;33m**\u001B[0m\u001B[0mkw\u001B[0m\u001B[1;33m)\u001B[0m\u001B[1;33m\u001B[0m\u001B[0m\n\u001B[0m\u001B[0;32m   1596\u001B[0m \u001B[1;33m\u001B[0m\u001B[0m\n\u001B[0;32m   1597\u001B[0m         \u001B[0mself\u001B[0m\u001B[1;33m.\u001B[0m\u001B[0msca\u001B[0m\u001B[1;33m(\u001B[0m\u001B[0mcurrent_ax\u001B[0m\u001B[1;33m)\u001B[0m\u001B[1;33m\u001B[0m\u001B[0m\n",
      "\u001B[1;32m/home/lhertel/anaconda2/envs/kerasenv/lib/python2.7/site-packages/matplotlib/colorbar.pyc\u001B[0m in \u001B[0;36mcolorbar_factory\u001B[1;34m(cax, mappable, **kwargs)\u001B[0m\n\u001B[0;32m   1328\u001B[0m         \u001B[0mcb\u001B[0m \u001B[1;33m=\u001B[0m \u001B[0mColorbarPatch\u001B[0m\u001B[1;33m(\u001B[0m\u001B[0mcax\u001B[0m\u001B[1;33m,\u001B[0m \u001B[0mmappable\u001B[0m\u001B[1;33m,\u001B[0m \u001B[1;33m**\u001B[0m\u001B[0mkwargs\u001B[0m\u001B[1;33m)\u001B[0m\u001B[1;33m\u001B[0m\u001B[0m\n\u001B[0;32m   1329\u001B[0m     \u001B[1;32melse\u001B[0m\u001B[1;33m:\u001B[0m\u001B[1;33m\u001B[0m\u001B[0m\n\u001B[1;32m-> 1330\u001B[1;33m         \u001B[0mcb\u001B[0m \u001B[1;33m=\u001B[0m \u001B[0mColorbar\u001B[0m\u001B[1;33m(\u001B[0m\u001B[0mcax\u001B[0m\u001B[1;33m,\u001B[0m \u001B[0mmappable\u001B[0m\u001B[1;33m,\u001B[0m \u001B[1;33m**\u001B[0m\u001B[0mkwargs\u001B[0m\u001B[1;33m)\u001B[0m\u001B[1;33m\u001B[0m\u001B[0m\n\u001B[0m\u001B[0;32m   1331\u001B[0m \u001B[1;33m\u001B[0m\u001B[0m\n\u001B[0;32m   1332\u001B[0m     \u001B[0mcid\u001B[0m \u001B[1;33m=\u001B[0m \u001B[0mmappable\u001B[0m\u001B[1;33m.\u001B[0m\u001B[0mcallbacksSM\u001B[0m\u001B[1;33m.\u001B[0m\u001B[0mconnect\u001B[0m\u001B[1;33m(\u001B[0m\u001B[1;34m'changed'\u001B[0m\u001B[1;33m,\u001B[0m \u001B[0mcb\u001B[0m\u001B[1;33m.\u001B[0m\u001B[0mon_mappable_changed\u001B[0m\u001B[1;33m)\u001B[0m\u001B[1;33m\u001B[0m\u001B[0m\n",
      "\u001B[1;32m/home/lhertel/anaconda2/envs/kerasenv/lib/python2.7/site-packages/matplotlib/colorbar.pyc\u001B[0m in \u001B[0;36m__init__\u001B[1;34m(self, ax, mappable, **kw)\u001B[0m\n\u001B[0;32m    878\u001B[0m         \u001B[1;31m# Ensure the given mappable's norm has appropriate vmin and vmax set\u001B[0m\u001B[1;33m\u001B[0m\u001B[1;33m\u001B[0m\u001B[0m\n\u001B[0;32m    879\u001B[0m         \u001B[1;31m# even if mappable.draw has not yet been called.\u001B[0m\u001B[1;33m\u001B[0m\u001B[1;33m\u001B[0m\u001B[0m\n\u001B[1;32m--> 880\u001B[1;33m         \u001B[0mmappable\u001B[0m\u001B[1;33m.\u001B[0m\u001B[0mautoscale_None\u001B[0m\u001B[1;33m(\u001B[0m\u001B[1;33m)\u001B[0m\u001B[1;33m\u001B[0m\u001B[0m\n\u001B[0m\u001B[0;32m    881\u001B[0m \u001B[1;33m\u001B[0m\u001B[0m\n\u001B[0;32m    882\u001B[0m         \u001B[0mself\u001B[0m\u001B[1;33m.\u001B[0m\u001B[0mmappable\u001B[0m \u001B[1;33m=\u001B[0m \u001B[0mmappable\u001B[0m\u001B[1;33m\u001B[0m\u001B[0m\n",
      "\u001B[1;31mAttributeError\u001B[0m: 'Figure' object has no attribute 'autoscale_None'"
     ]
    },
    {
     "data": {
      "image/png": "[encoded data removed]",
      "text/plain": [
       "<matplotlib.figure.Figure at 0x7fc039554850>"
      ]
     },
     "metadata": {},
     "output_type": "display_data"
    }
   ],
   "source": [
    "fig, axes = plt.subplots(nrows=6, ncols=6, figsize=(5, 5))\n",
    "plot_filters(layername='xInputConv1', w=w, axes=axes)\n",
    "plt.colorbar(fig)\n",
    "fig.suptitle(r'Top-view $7 \\times 7$ Filters', fontsize=15)\n",
    "# fig.savefig('figures/top_conv_1.pdf')"
   ]
  },
  {
   "cell_type": "code",
   "execution_count": 52,
   "metadata": {},
   "outputs": [
    {
     "data": {
      "image/png": "[encoded data removed]",
      "text/plain": [
       "<matplotlib.figure.Figure at 0x7fc0396ec790>"
      ]
     },
     "metadata": {},
     "output_type": "display_data"
    }
   ],
   "source": [
    "fig, axes = plt.subplots(nrows=6, ncols=6, figsize=(5, 5))\n",
    "plot_filters(layername='yInputConv1', w=w, axes=axes)\n",
    "fig.suptitle(r'Side-view $7 \\times 7$ Filters', fontsize=15)\n",
    "fig.savefig('figures/side_conv_1.pdf')"
   ]
  }
 ],
 "metadata": {
  "kernelspec": {
   "display_name": "Python 3 (ipykernel)",
   "language": "python",
   "name": "python3"
  },
  "language_info": {
   "codemirror_mode": {
    "name": "ipython",
    "version": 3
   },
   "file_extension": ".py",
   "mimetype": "text/x-python",
   "name": "python",
   "nbconvert_exporter": "python",
   "pygments_lexer": "ipython3",
   "version": "3.10.4"
  }
 },
 "nbformat": 4,
 "nbformat_minor": 1
}