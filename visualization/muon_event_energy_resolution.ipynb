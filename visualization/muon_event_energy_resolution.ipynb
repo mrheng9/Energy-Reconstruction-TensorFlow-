{
 "cells": [
  {
   "cell_type": "code",
   "execution_count": 1,
   "metadata": {
    "collapsed": true
   },
   "outputs": [],
   "source": [
    "%matplotlib inline\n",
    "import matplotlib\n",
    "import numpy as np\n",
    "import matplotlib.mlab as mlab\n",
    "import matplotlib.pyplot as plt\n",
    "import matplotlib.patches as mpatches\n",
    "import pickle"
   ]
  },
  {
   "cell_type": "code",
   "execution_count": 2,
   "metadata": {
    "collapsed": false
   },
   "outputs": [],
   "source": [
    "with open('/home/lhertel/projects/physicsprojects/nova/simple/predictions/muon_event_energy_scaled_0_500.pkl', 'r') as f:\n",
    "    results = pickle.load(f)"
   ]
  },
  {
   "cell_type": "code",
   "execution_count": 3,
   "metadata": {
    "collapsed": false
   },
   "outputs": [
    {
     "data": {
      "image/png": "[encoded data removed]",
      "text/plain": [
       "<matplotlib.figure.Figure at 0x7f40d1175550>"
      ]
     },
     "metadata": {},
     "output_type": "display_data"
    }
   ],
   "source": [
    "fig, axes = plt.subplots()\n",
    "hist = axes.hist(results['resolution'], bins=200, normed=1, range=(0,2), histtype='step', color='b')\n",
    "# hist = axes.hist(results['resolution'][results['y'] < 3], bins=200, normed=1, range=(0,2), histtype='step', color='g')"
   ]
  },
  {
   "cell_type": "code",
   "execution_count": 6,
   "metadata": {
    "collapsed": false
   },
   "outputs": [
    {
     "name": "stdout",
     "output_type": "stream",
     "text": [
      "(136119,)\n",
      "(136119,)\n"
     ]
    }
   ],
   "source": [
    "dat = np.load('/home/lhertel/projects/physicsprojects/nova/main/predictions/electron_event_new_401to500.npy')\n",
    "true_e = dat[:,0]\n",
    "pred_e = dat[:,1]\n",
    "sh_e = dat[:, 2]\n",
    "nn_resolution = pred_e/true_e\n",
    "sh_resolution = sh_e/true_e\n",
    "print true_e.shape\n",
    "print pred_e.shape"
   ]
  },
  {
   "cell_type": "code",
   "execution_count": 12,
   "metadata": {
    "collapsed": false
   },
   "outputs": [
    {
     "data": {
      "text/plain": [
       "[<matplotlib.lines.Line2D at 0x7fcaffd7b050>]"
      ]
     },
     "execution_count": 12,
     "metadata": {},
     "output_type": "execute_result"
    },
    {
     "data": {
      "image/png": "[encoded data removed]",
      "text/plain": [
       "<matplotlib.figure.Figure at 0x7fcaffe66cd0>"
      ]
     },
     "metadata": {},
     "output_type": "display_data"
    }
   ],
   "source": [
    "fig, axes = plt.subplots()\n",
    "hist = axes.hist(results['resolution'], bins=200, normed=1, range=(0,2), histtype='step', color='g')\n",
    "# hist = axes.hist(nn_resolution, bins=200, normed=1, range=(0,2), histtype='step', color='g')\n",
    "hist = axes.hist(sh_resolution, bins=200, normed=1, range=(0,2), histtype='step', color='r')\n",
    "axes.plot((1,1), (0,7), color='k')"
   ]
  }
 ],
 "metadata": {
  "kernelspec": {
   "display_name": "Python [kerasenv]",
   "language": "python",
   "name": "Python [kerasenv]"
  },
  "language_info": {
   "codemirror_mode": {
    "name": "ipython",
    "version": 2
   },
   "file_extension": ".py",
   "mimetype": "text/x-python",
   "name": "python",
   "nbconvert_exporter": "python",
   "pygments_lexer": "ipython2",
   "version": "2.7.12"
  }
 },
 "nbformat": 4,
 "nbformat_minor": 0
}
