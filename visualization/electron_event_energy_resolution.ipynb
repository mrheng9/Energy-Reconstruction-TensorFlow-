{
 "cells": [
  {
   "cell_type": "code",
   "execution_count": 1,
   "metadata": {
    "collapsed": true
   },
   "outputs": [],
   "source": [
    "%matplotlib inline\n",
    "import matplotlib\n",
    "import numpy as np\n",
    "import matplotlib.mlab as mlab\n",
    "import matplotlib.pyplot as plt\n",
    "import matplotlib.patches as mpatches\n",
    "import pickle"
   ]
  },
  {
   "cell_type": "code",
   "execution_count": 2,
   "metadata": {
    "collapsed": false
   },
   "outputs": [],
   "source": [
    "with open('/home/lhertel/projects/physicsprojects/nova/simple/predictions/electron_event_energy_scaled_0_1800.pkl', 'r') as f:\n",
    "    results = pickle.load(f)"
   ]
  },
  {
   "cell_type": "code",
   "execution_count": 3,
   "metadata": {
    "collapsed": false
   },
   "outputs": [
    {
     "data": {
      "image/png": "[encoded data removed]",
      "text/plain": [
       "<matplotlib.figure.Figure at 0x7f73c6380490>"
      ]
     },
     "metadata": {},
     "output_type": "display_data"
    }
   ],
   "source": [
    "fig, axes = plt.subplots()\n",
    "hist = axes.hist(results['resolution'], bins=200, normed=1, range=(0,2), histtype='step')"
   ]
  },
  {
   "cell_type": "code",
   "execution_count": 4,
   "metadata": {
    "collapsed": false
   },
   "outputs": [],
   "source": [
    "with open('/home/lhertel/projects/physicsprojects/nova/simple/predictions/electron_event_energy_scaled_with_pretraining_olddata.pkl', 'r') as f:\n",
    "    results_scaled = pickle.load(f)"
   ]
  },
  {
   "cell_type": "code",
   "execution_count": 5,
   "metadata": {
    "collapsed": false
   },
   "outputs": [
    {
     "data": {
      "image/png": "[encoded data removed]",
      "text/plain": [
       "<matplotlib.figure.Figure at 0x7f065abf0790>"
      ]
     },
     "metadata": {},
     "output_type": "display_data"
    }
   ],
   "source": [
    "fig, axes = plt.subplots()\n",
    "hist = axes.hist(results_scaled['resolution'], bins=200, normed=1, range=(0,2), histtype='step')"
   ]
  },
  {
   "cell_type": "code",
   "execution_count": 6,
   "metadata": {
    "collapsed": false
   },
   "outputs": [
    {
     "name": "stdout",
     "output_type": "stream",
     "text": [
      "(136119,)\n",
      "(136119,)\n"
     ]
    }
   ],
   "source": [
    "dat = np.load('/home/lhertel/projects/physicsprojects/nova/main/predictions/electron_event_new_401to500.npy')\n",
    "true_e = dat[:,0]\n",
    "pred_e = dat[:,1]\n",
    "sh_e = dat[:, 2]\n",
    "nn_resolution = pred_e/true_e\n",
    "sh_resolution = sh_e/true_e\n",
    "print true_e.shape\n",
    "print pred_e.shape"
   ]
  },
  {
   "cell_type": "code",
   "execution_count": 64,
   "metadata": {
    "collapsed": false
   },
   "outputs": [
    {
     "data": {
      "text/plain": [
       "[<matplotlib.lines.Line2D at 0x7f056c1b49d0>]"
      ]
     },
     "execution_count": 64,
     "metadata": {},
     "output_type": "execute_result"
    },
    {
     "data": {
      "image/png": "[encoded data removed]",
      "text/plain": [
       "<matplotlib.figure.Figure at 0x7f057c0e3e50>"
      ]
     },
     "metadata": {},
     "output_type": "display_data"
    }
   ],
   "source": [
    "fig, axes = plt.subplots()\n",
    "hist = axes.hist(results_scaled['resolution'], bins=200, normed=1, range=(0,2), histtype='step', color='b')\n",
    "hist = axes.hist(results['resolution'], bins=200, normed=1, range=(0,2), histtype='step', color='g')\n",
    "# hist = axes.hist(nn_resolution, bins=200, normed=1, range=(0,2), histtype='step', color='g')\n",
    "# hist = axes.hist(test_resolution, bins=200, normed=1, range=(0,2), histtype='step', color='cyan')\n",
    "hist = axes.hist(sh_resolution, bins=200, normed=1, range=(0,2), histtype='step', color='red')\n",
    "axes.plot((1,1), (0,7), color='k')"
   ]
  },
  {
   "cell_type": "code",
   "execution_count": 8,
   "metadata": {
    "collapsed": false
   },
   "outputs": [
    {
     "data": {
      "text/plain": [
       "['y', 'yhat', 'resolution']"
      ]
     },
     "execution_count": 8,
     "metadata": {},
     "output_type": "execute_result"
    }
   ],
   "source": [
    "results['yhat']"
   ]
  },
  {
   "cell_type": "markdown",
   "metadata": {},
   "source": [
    "# Using Vertex"
   ]
  },
  {
   "cell_type": "code",
   "execution_count": 9,
   "metadata": {
    "collapsed": true
   },
   "outputs": [],
   "source": [
    "import h5py"
   ]
  },
  {
   "cell_type": "code",
   "execution_count": 12,
   "metadata": {
    "collapsed": true
   },
   "outputs": [],
   "source": [
    "with h5py.File('/baldig/physicsprojects/nova/data/lars/vertex/electron_event_vertices_500_592.h5') as f:\n",
    "    vertices = f['data'][...]"
   ]
  },
  {
   "cell_type": "code",
   "execution_count": 17,
   "metadata": {
    "collapsed": false
   },
   "outputs": [],
   "source": [
    "with h5py.File('/baldig/physicsprojects/nova/data/lars/electron_event_energy/electron_event_energies_500_592.h5') as f:\n",
    "    y = f['data'][...]"
   ]
  },
  {
   "cell_type": "code",
   "execution_count": 28,
   "metadata": {
    "collapsed": false
   },
   "outputs": [
    {
     "name": "stdout",
     "output_type": "stream",
     "text": [
      "(151193, 3)\n",
      "(151168, 1)\n",
      "(151193, 1)\n"
     ]
    }
   ],
   "source": [
    "print vertices.shape\n",
    "print results['y'].shape\n",
    "print y.shape"
   ]
  },
  {
   "cell_type": "code",
   "execution_count": 24,
   "metadata": {
    "collapsed": false
   },
   "outputs": [
    {
     "name": "stdout",
     "output_type": "stream",
     "text": [
      "151167\n"
     ]
    }
   ],
   "source": [
    "for i in range(151168):\n",
    "    if y[i]!=results['y'][i]:\n",
    "        break\n",
    "print i"
   ]
  },
  {
   "cell_type": "code",
   "execution_count": 37,
   "metadata": {
    "collapsed": false
   },
   "outputs": [
    {
     "data": {
      "text/plain": [
       "(75584, 4)"
      ]
     },
     "execution_count": 37,
     "metadata": {},
     "output_type": "execute_result"
    }
   ],
   "source": []
  },
  {
   "cell_type": "code",
   "execution_count": 38,
   "metadata": {
    "collapsed": false
   },
   "outputs": [],
   "source": [
    "train_input = np.hstack([np.atleast_2d(results['yhat'][:75584]), vertices[:75584]])\n",
    "train_output = results['y'][:75584]\n",
    "test_input = np.hstack([np.atleast_2d(results['yhat'][75584:151167]), vertices[75584:151167]])\n",
    "test_output = results['y'][75584:151167]"
   ]
  },
  {
   "cell_type": "code",
   "execution_count": 48,
   "metadata": {
    "collapsed": false
   },
   "outputs": [
    {
     "name": "stderr",
     "output_type": "stream",
     "text": [
      "Using TensorFlow backend.\n"
     ]
    }
   ],
   "source": [
    "from keras.models import Sequential\n",
    "from keras.layers import Dense"
   ]
  },
  {
   "cell_type": "code",
   "execution_count": 59,
   "metadata": {
    "collapsed": false
   },
   "outputs": [],
   "source": [
    "model = Sequential()\n",
    "# model.add(Dense(10, input_dim=4, kernel_initializer='normal', activation='relu'))\n",
    "model.add(Dense(1, input_dim=4, kernel_initializer='normal'))\n",
    "model.compile(loss='mean_absolute_percentage_error', optimizer='adam')"
   ]
  },
  {
   "cell_type": "code",
   "execution_count": 60,
   "metadata": {
    "collapsed": false
   },
   "outputs": [
    {
     "name": "stdout",
     "output_type": "stream",
     "text": [
      "Train on 75584 samples, validate on 75583 samples\n",
      "Epoch 1/5\n",
      "75584/75584 [==============================] - 12s - loss: 20.7963 - val_loss: 6.9940\n",
      "Epoch 2/5\n",
      "75584/75584 [==============================] - 13s - loss: 6.9842 - val_loss: 6.9820\n",
      "Epoch 3/5\n",
      "75584/75584 [==============================] - 11s - loss: 6.9829 - val_loss: 6.9763\n",
      "Epoch 4/5\n",
      "75584/75584 [==============================] - 11s - loss: 6.9849 - val_loss: 6.9797\n",
      "Epoch 5/5\n",
      "75584/75584 [==============================] - 12s - loss: 6.9836 - val_loss: 6.9781\n"
     ]
    },
    {
     "data": {
      "text/plain": [
       "<keras.callbacks.History at 0x7f056c378d50>"
      ]
     },
     "execution_count": 60,
     "metadata": {},
     "output_type": "execute_result"
    }
   ],
   "source": [
    "model.fit(train_input, train_output, validation_data=(test_input, test_output), epochs=5)"
   ]
  },
  {
   "cell_type": "code",
   "execution_count": 61,
   "metadata": {
    "collapsed": true
   },
   "outputs": [],
   "source": [
    "test_pred = model.predict(test_input)"
   ]
  },
  {
   "cell_type": "code",
   "execution_count": 62,
   "metadata": {
    "collapsed": true
   },
   "outputs": [],
   "source": [
    "test_resolution = test_pred/test_output"
   ]
  }
 ],
 "metadata": {
  "kernelspec": {
   "display_name": "Python [kerasenv]",
   "language": "python",
   "name": "Python [kerasenv]"
  },
  "language_info": {
   "codemirror_mode": {
    "name": "ipython",
    "version": 2
   },
   "file_extension": ".py",
   "mimetype": "text/x-python",
   "name": "python",
   "nbconvert_exporter": "python",
   "pygments_lexer": "ipython2",
   "version": "2.7.12"
  }
 },
 "nbformat": 4,
 "nbformat_minor": 0
}
