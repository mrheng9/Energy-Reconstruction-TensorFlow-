{
 "cells": [
  {
   "cell_type": "code",
   "execution_count": 4,
   "metadata": {
    "collapsed": true
   },
   "outputs": [],
   "source": [
    "from __future__ import print_function\n",
    "import h5py\n",
    "import numpy as np\n",
    "import os\n",
    "%matplotlib inline\n",
    "import matplotlib\n",
    "import matplotlib.pyplot as plt\n",
    "import matplotlib.patches as mpatches\n",
    "import scipy.stats"
   ]
  },
  {
   "cell_type": "code",
   "execution_count": 5,
   "metadata": {
    "collapsed": true
   },
   "outputs": [],
   "source": [
    "data_dir = 'home/stella/data/testData/'"
   ]
  },
  {
   "cell_type": "code",
   "execution_count": 17,
   "metadata": {
    "collapsed": true
   },
   "outputs": [],
   "source": [
    "def plot_target_spectrum(axes, energies, labelsize=15):\n",
    "    colors = ['b', 'r', 'g']\n",
    "    for i, e in enumerate(energies):\n",
    "        axes.hist(e, bins=200, normed=1, range=(0,15), histtype='step', color=colors[i])\n",
    "    axes.set_xlabel('Energy (GeV)', fontsize=labelsize)\n",
    "    axes.set_ylabel('Density', fontsize=labelsize)"
   ]
  },
  {
   "cell_type": "code",
   "execution_count": null,
   "metadata": {
    "collapsed": false
   },
   "outputs": [],
   "source": [
    "with h5py.File(os.path.join(data_dir, 'electron_event_energy/electron_event_energies_0_1800.h5')) as nue:\n",
    "    labelsize=15\n",
    "    energies = nue['data'][0:1000]\n",
    "    fig, axes = plt.subplots(nrows=1, ncols=1, figsize=(6, 6))\n",
    "    plot_target_spectrum(axes=axes, energies=[2.06/energies])\n",
    "    print(scipy.stats.mode(energies))\n",
    "    axes.set_title(r'$\\nu_e$ Target Energies', fontsize=labelsize)\n",
    "    fig.tight_layout()\n",
    "#     fig.savefig('figures/nue_target_spectrum.pdf')"
   ]
  },
  {
   "cell_type": "code",
   "execution_count": 35,
   "metadata": {
    "collapsed": false
   },
   "outputs": [
    {
     "name": "stdout",
     "output_type": "stream",
     "text": [
      "ModeResult(mode=array([ 1.20439553], dtype=float32), count=array([7]))\n"
     ]
    },
    {
     "data": {
      "image/png": "[encoded data removed]",
      "text/plain": [
       "<matplotlib.figure.Figure at 0x7fc4b644c2d0>"
      ]
     },
     "metadata": {},
     "output_type": "display_data"
    }
   ],
   "source": [
    "with h5py.File(os.path.join(data_dir, 'electron_prong_energy/electron_prong_energies_0_1800.h5')) as f:\n",
    "    labelsize=15\n",
    "    energies = f['data'][0:100000, 0]\n",
    "    fig, axes = plt.subplots(nrows=1, ncols=1, figsize=(6, 6))\n",
    "    plot_target_spectrum(axes=axes, energies=[energies])\n",
    "    print(scipy.stats.mode(energies))\n",
    "    axes.set_title(r'Electron Target Energies', fontsize=labelsize)\n",
    "    fig.tight_layout()\n",
    "    fig.savefig('figures/electron_target_spectrum.pdf')"
   ]
  }
 ],
 "metadata": {
  "kernelspec": {
   "display_name": "Python [kerasenv]",
   "language": "python",
   "name": "Python [kerasenv]"
  },
  "language_info": {
   "codemirror_mode": {
    "name": "ipython",
    "version": 2
   },
   "file_extension": ".py",
   "mimetype": "text/x-python",
   "name": "python",
   "nbconvert_exporter": "python",
   "pygments_lexer": "ipython2",
   "version": "2.7.12"
  }
 },
 "nbformat": 4,
 "nbformat_minor": 0
}